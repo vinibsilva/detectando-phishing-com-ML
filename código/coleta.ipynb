{
  "cells": [
    {
      "cell_type": "markdown",
      "id": "fb7cbbfa",
      "metadata": {
        "id": "fb7cbbfa"
      },
      "source": [
        "# *Base de dados sobre Email Phishing* "
      ]
    },
    {
      "cell_type": "markdown",
      "id": "tXFBppQz_lXR",
      "metadata": {
        "id": "tXFBppQz_lXR"
      },
      "source": [
        "Os dados foram obtidos pela plataforma [Kaggle](https://www.kaggle.com/datasets/ethancratchley/email-phishing-dataset).\n",
        "\n",
        "Este conjunto de dados contém informações sobre emails para serem utilizados na detecção de possíveis phishings.\n",
        "\n",
        "A partir dessas informações, é possível treinar um algoritmo para identificar se um email pode ser ou não um phishing.\n",
        "\n",
        "\n",
        "Objetivo: **Classificação (predição) se um email é phishing ou não**\n",
        "\n",
        "\n",
        "\n",
        "**Dicionário de dados:**\n",
        "\n",
        "| Variável                | Descrição                                                             |\n",
        "|------------------------|-------------------------------------------------------------------------|\n",
        "| num_words              | Número total de palavras no corpo do e-mail                             |\n",
        "| num_unique_words       | Contagem de palavras únicas utilizadas                                  |\n",
        "| num_stopwords          | Contagem de palavras comuns (por exemplo, \"o\", \"e\", \"em\")               |\n",
        "| num_links              | Número de links detectados                                              |\n",
        "| num_unique_domains     | Número de domínios únicos nos links (por exemplo, \"paypal.com\")         |\n",
        "| num_email_addresses    | Contagem de endereços de e-mail encontrados no texto                    |\n",
        "| num_spelling_errors    | Contagem de palavras com erros ortográficos                             |\n",
        "| num_urgent_keywords    | Número de palavras de urgência (por exemplo, \"urgente\", \"verificar\")    |\n",
        "| label                  | Variável alvo: 0 = E-mail seguro, 1 = E-mail de phishing                 |\n",
        "\n"
      ]
    },
    {
      "cell_type": "markdown",
      "id": "1a5741e9",
      "metadata": {},
      "source": [
        "# Análise Exploratória e Pré-processamento\n",
        "\n",
        "Através da análise exploratória, podemos entender e **estruturar** os dados da forma adequada. "
      ]
    },
    {
      "cell_type": "code",
      "execution_count": 29,
      "id": "OeTUmxQYAPpZ",
      "metadata": {
        "colab": {
          "base_uri": "https://localhost:8080/",
          "height": 206
        },
        "id": "OeTUmxQYAPpZ",
        "outputId": "acafc379-bc79-4bad-960d-00073c924642"
      },
      "outputs": [
        {
          "data": {
            "application/vnd.microsoft.datawrangler.viewer.v0+json": {
              "columns": [
                {
                  "name": "index",
                  "rawType": "int64",
                  "type": "integer"
                },
                {
                  "name": "num_words",
                  "rawType": "int64",
                  "type": "integer"
                },
                {
                  "name": "num_unique_words",
                  "rawType": "int64",
                  "type": "integer"
                },
                {
                  "name": "num_stopwords",
                  "rawType": "int64",
                  "type": "integer"
                },
                {
                  "name": "num_links",
                  "rawType": "int64",
                  "type": "integer"
                },
                {
                  "name": "num_unique_domains",
                  "rawType": "int64",
                  "type": "integer"
                },
                {
                  "name": "num_email_addresses",
                  "rawType": "int64",
                  "type": "integer"
                },
                {
                  "name": "num_spelling_errors",
                  "rawType": "int64",
                  "type": "integer"
                },
                {
                  "name": "num_urgent_keywords",
                  "rawType": "int64",
                  "type": "integer"
                },
                {
                  "name": "label",
                  "rawType": "int64",
                  "type": "integer"
                }
              ],
              "ref": "58f54324-c47a-451a-bdfd-9b611c0dc4f9",
              "rows": [
                [
                  "0",
                  "140",
                  "94",
                  "52",
                  "0",
                  "0",
                  "0",
                  "0",
                  "0",
                  "0"
                ],
                [
                  "1",
                  "5",
                  "5",
                  "1",
                  "0",
                  "0",
                  "0",
                  "0",
                  "0",
                  "0"
                ],
                [
                  "2",
                  "34",
                  "32",
                  "15",
                  "0",
                  "0",
                  "0",
                  "0",
                  "0",
                  "0"
                ],
                [
                  "3",
                  "6",
                  "6",
                  "2",
                  "0",
                  "0",
                  "0",
                  "0",
                  "0",
                  "0"
                ],
                [
                  "4",
                  "9",
                  "9",
                  "2",
                  "0",
                  "0",
                  "0",
                  "0",
                  "0",
                  "0"
                ]
              ],
              "shape": {
                "columns": 9,
                "rows": 5
              }
            },
            "text/html": [
              "<div>\n",
              "<style scoped>\n",
              "    .dataframe tbody tr th:only-of-type {\n",
              "        vertical-align: middle;\n",
              "    }\n",
              "\n",
              "    .dataframe tbody tr th {\n",
              "        vertical-align: top;\n",
              "    }\n",
              "\n",
              "    .dataframe thead th {\n",
              "        text-align: right;\n",
              "    }\n",
              "</style>\n",
              "<table border=\"1\" class=\"dataframe\">\n",
              "  <thead>\n",
              "    <tr style=\"text-align: right;\">\n",
              "      <th></th>\n",
              "      <th>num_words</th>\n",
              "      <th>num_unique_words</th>\n",
              "      <th>num_stopwords</th>\n",
              "      <th>num_links</th>\n",
              "      <th>num_unique_domains</th>\n",
              "      <th>num_email_addresses</th>\n",
              "      <th>num_spelling_errors</th>\n",
              "      <th>num_urgent_keywords</th>\n",
              "      <th>label</th>\n",
              "    </tr>\n",
              "  </thead>\n",
              "  <tbody>\n",
              "    <tr>\n",
              "      <th>0</th>\n",
              "      <td>140</td>\n",
              "      <td>94</td>\n",
              "      <td>52</td>\n",
              "      <td>0</td>\n",
              "      <td>0</td>\n",
              "      <td>0</td>\n",
              "      <td>0</td>\n",
              "      <td>0</td>\n",
              "      <td>0</td>\n",
              "    </tr>\n",
              "    <tr>\n",
              "      <th>1</th>\n",
              "      <td>5</td>\n",
              "      <td>5</td>\n",
              "      <td>1</td>\n",
              "      <td>0</td>\n",
              "      <td>0</td>\n",
              "      <td>0</td>\n",
              "      <td>0</td>\n",
              "      <td>0</td>\n",
              "      <td>0</td>\n",
              "    </tr>\n",
              "    <tr>\n",
              "      <th>2</th>\n",
              "      <td>34</td>\n",
              "      <td>32</td>\n",
              "      <td>15</td>\n",
              "      <td>0</td>\n",
              "      <td>0</td>\n",
              "      <td>0</td>\n",
              "      <td>0</td>\n",
              "      <td>0</td>\n",
              "      <td>0</td>\n",
              "    </tr>\n",
              "    <tr>\n",
              "      <th>3</th>\n",
              "      <td>6</td>\n",
              "      <td>6</td>\n",
              "      <td>2</td>\n",
              "      <td>0</td>\n",
              "      <td>0</td>\n",
              "      <td>0</td>\n",
              "      <td>0</td>\n",
              "      <td>0</td>\n",
              "      <td>0</td>\n",
              "    </tr>\n",
              "    <tr>\n",
              "      <th>4</th>\n",
              "      <td>9</td>\n",
              "      <td>9</td>\n",
              "      <td>2</td>\n",
              "      <td>0</td>\n",
              "      <td>0</td>\n",
              "      <td>0</td>\n",
              "      <td>0</td>\n",
              "      <td>0</td>\n",
              "      <td>0</td>\n",
              "    </tr>\n",
              "  </tbody>\n",
              "</table>\n",
              "</div>"
            ],
            "text/plain": [
              "   num_words  num_unique_words  num_stopwords  num_links  num_unique_domains  \\\n",
              "0        140                94             52          0                   0   \n",
              "1          5                 5              1          0                   0   \n",
              "2         34                32             15          0                   0   \n",
              "3          6                 6              2          0                   0   \n",
              "4          9                 9              2          0                   0   \n",
              "\n",
              "   num_email_addresses  num_spelling_errors  num_urgent_keywords  label  \n",
              "0                    0                    0                    0      0  \n",
              "1                    0                    0                    0      0  \n",
              "2                    0                    0                    0      0  \n",
              "3                    0                    0                    0      0  \n",
              "4                    0                    0                    0      0  "
            ]
          },
          "execution_count": 29,
          "metadata": {},
          "output_type": "execute_result"
        }
      ],
      "source": [
        "import pandas as pd\n",
        "\n",
        "# Lendo o arquivo CSV principal\n",
        "df = pd.read_csv(\"../dados/email_phishing_data.csv\")\n",
        "\n",
        "# Visualizando as primeiras linhas\n",
        "df.head()"
      ]
    },
    {
      "cell_type": "markdown",
      "id": "Cc-P4DjI2Ye0",
      "metadata": {
        "id": "Cc-P4DjI2Ye0"
      },
      "source": [
        "Com base na descrição fornecida pelo autor, traduzimos os nomes das colunas para facilitar o entendimento."
      ]
    },
    {
      "cell_type": "code",
      "execution_count": 30,
      "id": "9_H9aUhUNe4D",
      "metadata": {
        "colab": {
          "base_uri": "https://localhost:8080/",
          "height": 206
        },
        "id": "9_H9aUhUNe4D",
        "outputId": "a2afde7c-a140-4515-d313-5a359ce26d44"
      },
      "outputs": [
        {
          "data": {
            "application/vnd.microsoft.datawrangler.viewer.v0+json": {
              "columns": [
                {
                  "name": "index",
                  "rawType": "int64",
                  "type": "integer"
                },
                {
                  "name": "Numero_Palavras",
                  "rawType": "int64",
                  "type": "integer"
                },
                {
                  "name": "Numero_Palavras_Unicas",
                  "rawType": "int64",
                  "type": "integer"
                },
                {
                  "name": "Numero_Palavras_Comuns",
                  "rawType": "int64",
                  "type": "integer"
                },
                {
                  "name": "Numero_Links",
                  "rawType": "int64",
                  "type": "integer"
                },
                {
                  "name": "Numero_Dominios_Unicos",
                  "rawType": "int64",
                  "type": "integer"
                },
                {
                  "name": "Numero_Emails",
                  "rawType": "int64",
                  "type": "integer"
                },
                {
                  "name": "Numero_Palavras_Erro_Ortografico",
                  "rawType": "int64",
                  "type": "integer"
                },
                {
                  "name": "Numero_Palavras_Urgencia",
                  "rawType": "int64",
                  "type": "integer"
                },
                {
                  "name": "phishing",
                  "rawType": "int64",
                  "type": "integer"
                }
              ],
              "ref": "ed97334d-d4a6-4c65-8e27-3a6b5f9e5568",
              "rows": [
                [
                  "0",
                  "140",
                  "94",
                  "52",
                  "0",
                  "0",
                  "0",
                  "0",
                  "0",
                  "0"
                ],
                [
                  "1",
                  "5",
                  "5",
                  "1",
                  "0",
                  "0",
                  "0",
                  "0",
                  "0",
                  "0"
                ],
                [
                  "2",
                  "34",
                  "32",
                  "15",
                  "0",
                  "0",
                  "0",
                  "0",
                  "0",
                  "0"
                ],
                [
                  "3",
                  "6",
                  "6",
                  "2",
                  "0",
                  "0",
                  "0",
                  "0",
                  "0",
                  "0"
                ],
                [
                  "4",
                  "9",
                  "9",
                  "2",
                  "0",
                  "0",
                  "0",
                  "0",
                  "0",
                  "0"
                ]
              ],
              "shape": {
                "columns": 9,
                "rows": 5
              }
            },
            "text/html": [
              "<div>\n",
              "<style scoped>\n",
              "    .dataframe tbody tr th:only-of-type {\n",
              "        vertical-align: middle;\n",
              "    }\n",
              "\n",
              "    .dataframe tbody tr th {\n",
              "        vertical-align: top;\n",
              "    }\n",
              "\n",
              "    .dataframe thead th {\n",
              "        text-align: right;\n",
              "    }\n",
              "</style>\n",
              "<table border=\"1\" class=\"dataframe\">\n",
              "  <thead>\n",
              "    <tr style=\"text-align: right;\">\n",
              "      <th></th>\n",
              "      <th>Numero_Palavras</th>\n",
              "      <th>Numero_Palavras_Unicas</th>\n",
              "      <th>Numero_Palavras_Comuns</th>\n",
              "      <th>Numero_Links</th>\n",
              "      <th>Numero_Dominios_Unicos</th>\n",
              "      <th>Numero_Emails</th>\n",
              "      <th>Numero_Palavras_Erro_Ortografico</th>\n",
              "      <th>Numero_Palavras_Urgencia</th>\n",
              "      <th>phishing</th>\n",
              "    </tr>\n",
              "  </thead>\n",
              "  <tbody>\n",
              "    <tr>\n",
              "      <th>0</th>\n",
              "      <td>140</td>\n",
              "      <td>94</td>\n",
              "      <td>52</td>\n",
              "      <td>0</td>\n",
              "      <td>0</td>\n",
              "      <td>0</td>\n",
              "      <td>0</td>\n",
              "      <td>0</td>\n",
              "      <td>0</td>\n",
              "    </tr>\n",
              "    <tr>\n",
              "      <th>1</th>\n",
              "      <td>5</td>\n",
              "      <td>5</td>\n",
              "      <td>1</td>\n",
              "      <td>0</td>\n",
              "      <td>0</td>\n",
              "      <td>0</td>\n",
              "      <td>0</td>\n",
              "      <td>0</td>\n",
              "      <td>0</td>\n",
              "    </tr>\n",
              "    <tr>\n",
              "      <th>2</th>\n",
              "      <td>34</td>\n",
              "      <td>32</td>\n",
              "      <td>15</td>\n",
              "      <td>0</td>\n",
              "      <td>0</td>\n",
              "      <td>0</td>\n",
              "      <td>0</td>\n",
              "      <td>0</td>\n",
              "      <td>0</td>\n",
              "    </tr>\n",
              "    <tr>\n",
              "      <th>3</th>\n",
              "      <td>6</td>\n",
              "      <td>6</td>\n",
              "      <td>2</td>\n",
              "      <td>0</td>\n",
              "      <td>0</td>\n",
              "      <td>0</td>\n",
              "      <td>0</td>\n",
              "      <td>0</td>\n",
              "      <td>0</td>\n",
              "    </tr>\n",
              "    <tr>\n",
              "      <th>4</th>\n",
              "      <td>9</td>\n",
              "      <td>9</td>\n",
              "      <td>2</td>\n",
              "      <td>0</td>\n",
              "      <td>0</td>\n",
              "      <td>0</td>\n",
              "      <td>0</td>\n",
              "      <td>0</td>\n",
              "      <td>0</td>\n",
              "    </tr>\n",
              "  </tbody>\n",
              "</table>\n",
              "</div>"
            ],
            "text/plain": [
              "   Numero_Palavras  Numero_Palavras_Unicas  Numero_Palavras_Comuns  \\\n",
              "0              140                      94                      52   \n",
              "1                5                       5                       1   \n",
              "2               34                      32                      15   \n",
              "3                6                       6                       2   \n",
              "4                9                       9                       2   \n",
              "\n",
              "   Numero_Links  Numero_Dominios_Unicos  Numero_Emails  \\\n",
              "0             0                       0              0   \n",
              "1             0                       0              0   \n",
              "2             0                       0              0   \n",
              "3             0                       0              0   \n",
              "4             0                       0              0   \n",
              "\n",
              "   Numero_Palavras_Erro_Ortografico  Numero_Palavras_Urgencia  phishing  \n",
              "0                                 0                         0         0  \n",
              "1                                 0                         0         0  \n",
              "2                                 0                         0         0  \n",
              "3                                 0                         0         0  \n",
              "4                                 0                         0         0  "
            ]
          },
          "execution_count": 30,
          "metadata": {},
          "output_type": "execute_result"
        }
      ],
      "source": [
        "# Dicionário de mapeamento (inglês para português simplificado)\n",
        "mapeamento_colunas = {\n",
        "    'num_words': 'Numero_Palavras',\n",
        "    'num_unique_words': 'Numero_Palavras_Unicas',\n",
        "    'num_stopwords': 'Numero_Palavras_Comuns',\n",
        "    'num_links': 'Numero_Links',\n",
        "    'num_unique_domains': 'Numero_Dominios_Unicos',\n",
        "    'num_email_addresses': 'Numero_Emails',\n",
        "    'num_spelling_errors': 'Numero_Palavras_Erro_Ortografico',\n",
        "    'num_urgent_keywords': 'Numero_Palavras_Urgencia',\n",
        "    'label': 'phishing'\n",
        "}\n",
        "\n",
        "# Renomear as colunas\n",
        "df = df.rename(columns=mapeamento_colunas)\n",
        "\n",
        "# Verificar o resultado\n",
        "df.head()"
      ]
    },
    {
      "cell_type": "markdown",
      "id": "vBPr-OTRPI5f",
      "metadata": {
        "id": "vBPr-OTRPI5f"
      },
      "source": [
        "##### Segundo passo: Fazer algumas análises"
      ]
    },
    {
      "cell_type": "markdown",
      "id": "EJO0xiLYS39E",
      "metadata": {
        "id": "EJO0xiLYS39E"
      },
      "source": [
        "Existe dados faltantes na minha base de dados?"
      ]
    },
    {
      "cell_type": "code",
      "execution_count": 31,
      "id": "eSRPueu6TGnk",
      "metadata": {
        "colab": {
          "base_uri": "https://localhost:8080/"
        },
        "id": "eSRPueu6TGnk",
        "outputId": "86101000-6d45-456c-fd26-49eb1819f59a"
      },
      "outputs": [
        {
          "name": "stdout",
          "output_type": "stream",
          "text": [
            "Dados faltantes por coluna:\n",
            "Numero_Palavras                     0\n",
            "Numero_Palavras_Unicas              0\n",
            "Numero_Palavras_Comuns              0\n",
            "Numero_Links                        0\n",
            "Numero_Dominios_Unicos              0\n",
            "Numero_Emails                       0\n",
            "Numero_Palavras_Erro_Ortografico    0\n",
            "Numero_Palavras_Urgencia            0\n",
            "phishing                            0\n",
            "dtype: int64\n"
          ]
        }
      ],
      "source": [
        "dados_faltantes = df.isna().sum()\n",
        "\n",
        "# Mostrar o resultado\n",
        "print(\"Dados faltantes por coluna:\")\n",
        "print(dados_faltantes)"
      ]
    },
    {
      "cell_type": "markdown",
      "id": "61fc149b",
      "metadata": {},
      "source": [
        "Precisamos checar como o dataframe está inicialmente estruturado:"
      ]
    },
    {
      "cell_type": "code",
      "execution_count": 32,
      "id": "70uAoP4gTYWl",
      "metadata": {
        "colab": {
          "base_uri": "https://localhost:8080/"
        },
        "id": "70uAoP4gTYWl",
        "outputId": "868bd4e5-5d53-493b-ab9f-94fc3e5390af"
      },
      "outputs": [
        {
          "name": "stdout",
          "output_type": "stream",
          "text": [
            "<class 'pandas.core.frame.DataFrame'>\n",
            "RangeIndex: 524846 entries, 0 to 524845\n",
            "Data columns (total 9 columns):\n",
            " #   Column                            Non-Null Count   Dtype\n",
            "---  ------                            --------------   -----\n",
            " 0   Numero_Palavras                   524846 non-null  int64\n",
            " 1   Numero_Palavras_Unicas            524846 non-null  int64\n",
            " 2   Numero_Palavras_Comuns            524846 non-null  int64\n",
            " 3   Numero_Links                      524846 non-null  int64\n",
            " 4   Numero_Dominios_Unicos            524846 non-null  int64\n",
            " 5   Numero_Emails                     524846 non-null  int64\n",
            " 6   Numero_Palavras_Erro_Ortografico  524846 non-null  int64\n",
            " 7   Numero_Palavras_Urgencia          524846 non-null  int64\n",
            " 8   phishing                          524846 non-null  int64\n",
            "dtypes: int64(9)\n",
            "memory usage: 36.0 MB\n"
          ]
        }
      ],
      "source": [
        "#  Podemos verificar o tipo de dado de cada coluna\n",
        "df.info()"
      ]
    },
    {
      "cell_type": "markdown",
      "id": "SuQFkjc9Pgka",
      "metadata": {
        "id": "SuQFkjc9Pgka"
      },
      "source": [
        "Qual a quantidade de emails que são considerados phishing a empresa?"
      ]
    },
    {
      "cell_type": "code",
      "execution_count": 33,
      "id": "XJeBxJMgPh5B",
      "metadata": {
        "colab": {
          "base_uri": "https://localhost:8080/",
          "height": 178
        },
        "id": "XJeBxJMgPh5B",
        "outputId": "80d4aef2-c0db-4e62-edab-ed0d3d3f6863"
      },
      "outputs": [
        {
          "data": {
            "application/vnd.microsoft.datawrangler.viewer.v0+json": {
              "columns": [
                {
                  "name": "phishing",
                  "rawType": "int64",
                  "type": "integer"
                },
                {
                  "name": "count",
                  "rawType": "int64",
                  "type": "integer"
                }
              ],
              "ref": "69caf0a7-46d9-4b10-b370-4eaa675ac573",
              "rows": [
                [
                  "0",
                  "517897"
                ],
                [
                  "1",
                  "6949"
                ]
              ],
              "shape": {
                "columns": 1,
                "rows": 2
              }
            },
            "text/plain": [
              "phishing\n",
              "0    517897\n",
              "1      6949\n",
              "Name: count, dtype: int64"
            ]
          },
          "execution_count": 33,
          "metadata": {},
          "output_type": "execute_result"
        }
      ],
      "source": [
        "df['phishing'].value_counts()\n",
        "\n",
        "# 0 são valores de emails seguros\n",
        "# 1 são valores de emails phishing"
      ]
    },
    {
      "cell_type": "markdown",
      "id": "x_XXXMbfQHbV",
      "metadata": {
        "id": "x_XXXMbfQHbV"
      },
      "source": [
        "Qual é a média de palavras de acordo com a classificação final do email?"
      ]
    },
    {
      "cell_type": "code",
      "execution_count": 34,
      "id": "rKNjS-9VQO19",
      "metadata": {
        "colab": {
          "base_uri": "https://localhost:8080/",
          "height": 209
        },
        "id": "rKNjS-9VQO19",
        "outputId": "47077672-fd87-450f-9d3f-273ea4ee3706"
      },
      "outputs": [
        {
          "name": "stdout",
          "output_type": "stream",
          "text": [
            "phishing\n",
            "0    276.63\n",
            "1    246.15\n",
            "Name: Numero_Palavras, dtype: float64\n"
          ]
        }
      ],
      "source": [
        "media_palavras = df.groupby('phishing')['Numero_Palavras'].mean().round(2)\n",
        "\n",
        "# Formatando a saída \n",
        "media_palavras.columns = ['Formação Acadêmica', 'Idade']\n",
        "print(media_palavras)"
      ]
    },
    {
      "cell_type": "markdown",
      "id": "b1530fa4",
      "metadata": {},
      "source": [
        "Para conferir rapidamente o nível de dispersão dos valores, podemos obter a mediana e confirmar se a média é \"útil\" neste caso:"
      ]
    },
    {
      "cell_type": "code",
      "execution_count": 35,
      "id": "ea26ca3f",
      "metadata": {},
      "outputs": [
        {
          "data": {
            "application/vnd.microsoft.datawrangler.viewer.v0+json": {
              "columns": [
                {
                  "name": "phishing",
                  "rawType": "int64",
                  "type": "integer"
                },
                {
                  "name": "Numero_Palavras",
                  "rawType": "float64",
                  "type": "float"
                }
              ],
              "ref": "bc5b0ea2-a120-4241-9de1-5ca6dce99553",
              "rows": [
                [
                  "0",
                  "120.0"
                ],
                [
                  "1",
                  "110.0"
                ]
              ],
              "shape": {
                "columns": 1,
                "rows": 2
              }
            },
            "text/plain": [
              "phishing\n",
              "0    120.0\n",
              "1    110.0\n",
              "Name: Numero_Palavras, dtype: float64"
            ]
          },
          "execution_count": 35,
          "metadata": {},
          "output_type": "execute_result"
        }
      ],
      "source": [
        "df.groupby('phishing')['Numero_Palavras'].median()"
      ]
    },
    {
      "cell_type": "code",
      "execution_count": 36,
      "id": "d2430e74",
      "metadata": {},
      "outputs": [
        {
          "data": {
            "application/vnd.microsoft.datawrangler.viewer.v0+json": {
              "columns": [
                {
                  "name": "phishing",
                  "rawType": "int64",
                  "type": "integer"
                },
                {
                  "name": "Numero_Links",
                  "rawType": "float64",
                  "type": "float"
                }
              ],
              "ref": "9da3d055-3ce2-4935-9b7b-e73a88440ee3",
              "rows": [
                [
                  "0",
                  "0.9"
                ],
                [
                  "1",
                  "0.42"
                ]
              ],
              "shape": {
                "columns": 1,
                "rows": 2
              }
            },
            "text/plain": [
              "phishing\n",
              "0    0.90\n",
              "1    0.42\n",
              "Name: Numero_Links, dtype: float64"
            ]
          },
          "execution_count": 36,
          "metadata": {},
          "output_type": "execute_result"
        }
      ],
      "source": [
        "df.groupby('phishing')['Numero_Links'].mean().round(2)"
      ]
    },
    {
      "cell_type": "code",
      "execution_count": 37,
      "id": "b874449b",
      "metadata": {},
      "outputs": [
        {
          "data": {
            "application/vnd.microsoft.datawrangler.viewer.v0+json": {
              "columns": [
                {
                  "name": "phishing",
                  "rawType": "int64",
                  "type": "integer"
                },
                {
                  "name": "Numero_Palavras_Erro_Ortografico",
                  "rawType": "float64",
                  "type": "float"
                }
              ],
              "ref": "011d714a-cdbb-4805-a8ec-11d65be7ff06",
              "rows": [
                [
                  "0",
                  "24.77"
                ],
                [
                  "1",
                  "19.16"
                ]
              ],
              "shape": {
                "columns": 1,
                "rows": 2
              }
            },
            "text/plain": [
              "phishing\n",
              "0    24.77\n",
              "1    19.16\n",
              "Name: Numero_Palavras_Erro_Ortografico, dtype: float64"
            ]
          },
          "execution_count": 37,
          "metadata": {},
          "output_type": "execute_result"
        }
      ],
      "source": [
        "df.groupby('phishing')['Numero_Palavras_Erro_Ortografico'].mean().round(2)"
      ]
    },
    {
      "cell_type": "markdown",
      "id": "kuBvJcrzRS7W",
      "metadata": {
        "id": "kuBvJcrzRS7W"
      },
      "source": [
        "Podemos gerar visualizações para essas informações"
      ]
    },
    {
      "cell_type": "code",
      "execution_count": 38,
      "id": "Gna_E7LqRYMQ",
      "metadata": {
        "colab": {
          "base_uri": "https://localhost:8080/",
          "height": 306
        },
        "id": "Gna_E7LqRYMQ",
        "outputId": "cded034c-671f-4390-f6d6-d38fe7a916c9"
      },
      "outputs": [
        {
          "data": {
            "image/png": "[encoded data removed]",
            "text/plain": [
              "<Figure size 500x300 with 1 Axes>"
            ]
          },
          "metadata": {},
          "output_type": "display_data"
        }
      ],
      "source": [
        "# Importar biblioteca de visualização de dados\n",
        "import matplotlib.pyplot as plt\n",
        "\n",
        "# Contar a quantidade de emails que são phishing\n",
        "contagem_phishing = df['phishing'].value_counts()\n",
        "\n",
        "# Criar o gráfico de barras\n",
        "plt.figure(figsize=(5, 3))\n",
        "plt.xticks(ticks=[0, 1], labels=[\"Seguro\", \"Phishing\"])\n",
        "plt.ylabel(\"Quantidade de e-mails\")\n",
        "plt.title(\"Distribuição de e-mails seguros e phishing\")\n",
        "contagem_phishing.plot(kind='bar', color='blue')\n",
        "plt.show()"
      ]
    },
    {
      "cell_type": "markdown",
      "id": "xAml5qReTuTG",
      "metadata": {
        "id": "xAml5qReTuTG"
      },
      "source": [
        "**Transformação de dados** \n",
        "\n",
        "Se estivessemos com dados não númericos, precisariamos transformar esses dados para que o nosso futuro modelo de Machine Learning pudesse ser treinado e funcionar da maneira adequada. Tendo em vista que nossa base de dados possui apenas valores númericos, podemos pular essa etapa!"
      ]
    },
    {
      "cell_type": "code",
      "execution_count": 39,
      "id": "_Yg_mDeUXOdc",
      "metadata": {
        "id": "_Yg_mDeUXOdc"
      },
      "outputs": [
        {
          "data": {
            "application/vnd.microsoft.datawrangler.viewer.v0+json": {
              "columns": [
                {
                  "name": "index",
                  "rawType": "object",
                  "type": "string"
                },
                {
                  "name": "0",
                  "rawType": "object",
                  "type": "unknown"
                }
              ],
              "ref": "acb54e27-0bf0-47af-8948-a90de0a1e6b9",
              "rows": [
                [
                  "Numero_Palavras",
                  "int64"
                ],
                [
                  "Numero_Palavras_Unicas",
                  "int64"
                ],
                [
                  "Numero_Palavras_Comuns",
                  "int64"
                ],
                [
                  "Numero_Links",
                  "int64"
                ],
                [
                  "Numero_Dominios_Unicos",
                  "int64"
                ],
                [
                  "Numero_Emails",
                  "int64"
                ],
                [
                  "Numero_Palavras_Erro_Ortografico",
                  "int64"
                ],
                [
                  "Numero_Palavras_Urgencia",
                  "int64"
                ],
                [
                  "phishing",
                  "int64"
                ]
              ],
              "shape": {
                "columns": 1,
                "rows": 9
              }
            },
            "text/plain": [
              "Numero_Palavras                     int64\n",
              "Numero_Palavras_Unicas              int64\n",
              "Numero_Palavras_Comuns              int64\n",
              "Numero_Links                        int64\n",
              "Numero_Dominios_Unicos              int64\n",
              "Numero_Emails                       int64\n",
              "Numero_Palavras_Erro_Ortografico    int64\n",
              "Numero_Palavras_Urgencia            int64\n",
              "phishing                            int64\n",
              "dtype: object"
            ]
          },
          "execution_count": 39,
          "metadata": {},
          "output_type": "execute_result"
        }
      ],
      "source": [
        "# Verificar se todas as variáveis são numéricas\n",
        "df.dtypes"
      ]
    },
    {
      "cell_type": "markdown",
      "id": "CjCf_MBmXz_P",
      "metadata": {
        "id": "CjCf_MBmXz_P"
      },
      "source": [
        "Agora vamos salvar a nossa base de dados limpa:"
      ]
    },
    {
      "cell_type": "code",
      "execution_count": 40,
      "id": "UnM3Gh0pX6md",
      "metadata": {
        "id": "UnM3Gh0pX6md"
      },
      "outputs": [
        {
          "name": "stdout",
          "output_type": "stream",
          "text": [
            "DataFrame salvo com sucesso em: ../dados/dados_emails_transformados.csv\n"
          ]
        }
      ],
      "source": [
        "#Salvar o DataFrame transformado em um arquivo CSV\n",
        "\n",
        "caminho_arquivo = '../dados/dados_emails_transformados.csv'\n",
        "df.to_csv(caminho_arquivo, index=False, encoding='utf-8-sig')\n",
        "\n",
        "print(f\"DataFrame salvo com sucesso em: {caminho_arquivo}\")"
      ]
    }
  ],
  "metadata": {
    "colab": {
      "provenance": []
    },
    "kernelspec": {
      "display_name": ".venv",
      "language": "python",
      "name": "python3"
    },
    "language_info": {
      "codemirror_mode": {
        "name": "ipython",
        "version": 3
      },
      "file_extension": ".py",
      "mimetype": "text/x-python",
      "name": "python",
      "nbconvert_exporter": "python",
      "pygments_lexer": "ipython3",
      "version": "3.13.3"
    }
  },
  "nbformat": 4,
  "nbformat_minor": 5
}
