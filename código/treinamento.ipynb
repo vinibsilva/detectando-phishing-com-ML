{
 "cells": [
  {
   "cell_type": "markdown",
   "id": "3fa47552",
   "metadata": {},
   "source": [
    "# *Criação e treinamento de Algoritmo preditivo* \n",
    "\n",
    "Vamos agora criar e treinar o nosso algortimo que deverá classificar os emails como sendo seguros ou phishing."
   ]
  },
  {
   "cell_type": "code",
   "execution_count": 26,
   "id": "ff78314d",
   "metadata": {
    "execution": {
     "iopub.execute_input": "2023-10-23T20:27:33.799499Z",
     "iopub.status.busy": "2023-10-23T20:27:33.798372Z",
     "iopub.status.idle": "2023-10-23T20:27:35.512110Z",
     "shell.execute_reply": "2023-10-23T20:27:35.510865Z"
    },
    "papermill": {
     "duration": 1.732734,
     "end_time": "2023-10-23T20:27:35.515424",
     "exception": false,
     "start_time": "2023-10-23T20:27:33.782690",
     "status": "completed"
    },
    "tags": []
   },
   "outputs": [],
   "source": [
    "import pandas as pd #Para manipulação de dados\n",
    "import numpy as np  #Para fazer cálculos"
   ]
  },
  {
   "cell_type": "code",
   "execution_count": 27,
   "id": "38523848",
   "metadata": {
    "execution": {
     "iopub.execute_input": "2023-10-23T20:27:35.571256Z",
     "iopub.status.busy": "2023-10-23T20:27:35.570492Z",
     "iopub.status.idle": "2023-10-23T20:27:35.603534Z",
     "shell.execute_reply": "2023-10-23T20:27:35.602173Z"
    },
    "papermill": {
     "duration": 0.051029,
     "end_time": "2023-10-23T20:27:35.606538",
     "exception": false,
     "start_time": "2023-10-23T20:27:35.555509",
     "status": "completed"
    },
    "tags": []
   },
   "outputs": [],
   "source": [
    "# Leitura da base já tratada/limpa\n",
    "df = pd.read_csv(\"../dados/dados_emails_transformados.csv\")"
   ]
  },
  {
   "cell_type": "code",
   "execution_count": 28,
   "id": "d823ecd4",
   "metadata": {
    "execution": {
     "iopub.execute_input": "2023-10-23T20:27:35.689302Z",
     "iopub.status.busy": "2023-10-23T20:27:35.688741Z",
     "iopub.status.idle": "2023-10-23T20:27:35.714073Z",
     "shell.execute_reply": "2023-10-23T20:27:35.713254Z"
    },
    "papermill": {
     "duration": 0.042444,
     "end_time": "2023-10-23T20:27:35.716246",
     "exception": false,
     "start_time": "2023-10-23T20:27:35.673802",
     "status": "completed"
    },
    "tags": []
   },
   "outputs": [
    {
     "data": {
      "application/vnd.microsoft.datawrangler.viewer.v0+json": {
       "columns": [
        {
         "name": "index",
         "rawType": "int64",
         "type": "integer"
        },
        {
         "name": "Numero_Palavras",
         "rawType": "int64",
         "type": "integer"
        },
        {
         "name": "Numero_Palavras_Unicas",
         "rawType": "int64",
         "type": "integer"
        },
        {
         "name": "Numero_Palavras_Comuns",
         "rawType": "int64",
         "type": "integer"
        },
        {
         "name": "Numero_Links",
         "rawType": "int64",
         "type": "integer"
        },
        {
         "name": "Numero_Dominios_Unicos",
         "rawType": "int64",
         "type": "integer"
        },
        {
         "name": "Numero_Emails",
         "rawType": "int64",
         "type": "integer"
        },
        {
         "name": "Numero_Palavras_Erro_Ortografico",
         "rawType": "int64",
         "type": "integer"
        },
        {
         "name": "Numero_Palavras_Urgencia",
         "rawType": "int64",
         "type": "integer"
        },
        {
         "name": "phishing",
         "rawType": "int64",
         "type": "integer"
        }
       ],
       "ref": "8ac3178e-486e-4796-acbf-34e1019289d1",
       "rows": [
        [
         "0",
         "140",
         "94",
         "52",
         "0",
         "0",
         "0",
         "0",
         "0",
         "0"
        ],
        [
         "1",
         "5",
         "5",
         "1",
         "0",
         "0",
         "0",
         "0",
         "0",
         "0"
        ],
        [
         "2",
         "34",
         "32",
         "15",
         "0",
         "0",
         "0",
         "0",
         "0",
         "0"
        ],
        [
         "3",
         "6",
         "6",
         "2",
         "0",
         "0",
         "0",
         "0",
         "0",
         "0"
        ],
        [
         "4",
         "9",
         "9",
         "2",
         "0",
         "0",
         "0",
         "0",
         "0",
         "0"
        ]
       ],
       "shape": {
        "columns": 9,
        "rows": 5
       }
      },
      "text/html": [
       "<div>\n",
       "<style scoped>\n",
       "    .dataframe tbody tr th:only-of-type {\n",
       "        vertical-align: middle;\n",
       "    }\n",
       "\n",
       "    .dataframe tbody tr th {\n",
       "        vertical-align: top;\n",
       "    }\n",
       "\n",
       "    .dataframe thead th {\n",
       "        text-align: right;\n",
       "    }\n",
       "</style>\n",
       "<table border=\"1\" class=\"dataframe\">\n",
       "  <thead>\n",
       "    <tr style=\"text-align: right;\">\n",
       "      <th></th>\n",
       "      <th>Numero_Palavras</th>\n",
       "      <th>Numero_Palavras_Unicas</th>\n",
       "      <th>Numero_Palavras_Comuns</th>\n",
       "      <th>Numero_Links</th>\n",
       "      <th>Numero_Dominios_Unicos</th>\n",
       "      <th>Numero_Emails</th>\n",
       "      <th>Numero_Palavras_Erro_Ortografico</th>\n",
       "      <th>Numero_Palavras_Urgencia</th>\n",
       "      <th>phishing</th>\n",
       "    </tr>\n",
       "  </thead>\n",
       "  <tbody>\n",
       "    <tr>\n",
       "      <th>0</th>\n",
       "      <td>140</td>\n",
       "      <td>94</td>\n",
       "      <td>52</td>\n",
       "      <td>0</td>\n",
       "      <td>0</td>\n",
       "      <td>0</td>\n",
       "      <td>0</td>\n",
       "      <td>0</td>\n",
       "      <td>0</td>\n",
       "    </tr>\n",
       "    <tr>\n",
       "      <th>1</th>\n",
       "      <td>5</td>\n",
       "      <td>5</td>\n",
       "      <td>1</td>\n",
       "      <td>0</td>\n",
       "      <td>0</td>\n",
       "      <td>0</td>\n",
       "      <td>0</td>\n",
       "      <td>0</td>\n",
       "      <td>0</td>\n",
       "    </tr>\n",
       "    <tr>\n",
       "      <th>2</th>\n",
       "      <td>34</td>\n",
       "      <td>32</td>\n",
       "      <td>15</td>\n",
       "      <td>0</td>\n",
       "      <td>0</td>\n",
       "      <td>0</td>\n",
       "      <td>0</td>\n",
       "      <td>0</td>\n",
       "      <td>0</td>\n",
       "    </tr>\n",
       "    <tr>\n",
       "      <th>3</th>\n",
       "      <td>6</td>\n",
       "      <td>6</td>\n",
       "      <td>2</td>\n",
       "      <td>0</td>\n",
       "      <td>0</td>\n",
       "      <td>0</td>\n",
       "      <td>0</td>\n",
       "      <td>0</td>\n",
       "      <td>0</td>\n",
       "    </tr>\n",
       "    <tr>\n",
       "      <th>4</th>\n",
       "      <td>9</td>\n",
       "      <td>9</td>\n",
       "      <td>2</td>\n",
       "      <td>0</td>\n",
       "      <td>0</td>\n",
       "      <td>0</td>\n",
       "      <td>0</td>\n",
       "      <td>0</td>\n",
       "      <td>0</td>\n",
       "    </tr>\n",
       "  </tbody>\n",
       "</table>\n",
       "</div>"
      ],
      "text/plain": [
       "   Numero_Palavras  Numero_Palavras_Unicas  ...  Numero_Palavras_Urgencia  phishing\n",
       "0              140                      94  ...                         0         0\n",
       "1                5                       5  ...                         0         0\n",
       "2               34                      32  ...                         0         0\n",
       "3                6                       6  ...                         0         0\n",
       "4                9                       9  ...                         0         0\n",
       "\n",
       "[5 rows x 9 columns]"
      ]
     },
     "execution_count": 28,
     "metadata": {},
     "output_type": "execute_result"
    }
   ],
   "source": [
    "df.head()"
   ]
  },
  {
   "cell_type": "markdown",
   "id": "65a4c78c",
   "metadata": {
    "papermill": {
     "duration": 0.014419,
     "end_time": "2023-10-23T20:27:36.489805",
     "exception": false,
     "start_time": "2023-10-23T20:27:36.475386",
     "status": "completed"
    },
    "tags": []
   },
   "source": [
    "Definindo as variáveis explicativas (X = características ou features) e a variável resposta (y = rótulo ou label)"
   ]
  },
  {
   "cell_type": "code",
   "execution_count": 29,
   "id": "ce435434",
   "metadata": {
    "execution": {
     "iopub.execute_input": "2023-10-23T20:27:36.533148Z",
     "iopub.status.busy": "2023-10-23T20:27:36.532329Z",
     "iopub.status.idle": "2023-10-23T20:27:36.540592Z",
     "shell.execute_reply": "2023-10-23T20:27:36.539791Z"
    },
    "papermill": {
     "duration": 0.038345,
     "end_time": "2023-10-23T20:27:36.543061",
     "exception": false,
     "start_time": "2023-10-23T20:27:36.504716",
     "status": "completed"
    },
    "tags": []
   },
   "outputs": [],
   "source": [
    "X = df.drop('phishing', axis=1)\n",
    "y = df['phishing']"
   ]
  },
  {
   "cell_type": "markdown",
   "id": "b2905534",
   "metadata": {
    "papermill": {
     "duration": 0.015533,
     "end_time": "2023-10-23T20:27:37.849382",
     "exception": false,
     "start_time": "2023-10-23T20:27:37.833849",
     "status": "completed"
    },
    "tags": []
   },
   "source": [
    "Separando a base em DADOS DE TREINO e DADOS DE TESTE"
   ]
  },
  {
   "cell_type": "code",
   "execution_count": 30,
   "id": "6ef17b73",
   "metadata": {
    "execution": {
     "iopub.execute_input": "2023-10-23T20:27:37.883006Z",
     "iopub.status.busy": "2023-10-23T20:27:37.882525Z",
     "iopub.status.idle": "2023-10-23T20:27:37.993125Z",
     "shell.execute_reply": "2023-10-23T20:27:37.991712Z"
    },
    "papermill": {
     "duration": 0.131703,
     "end_time": "2023-10-23T20:27:37.996742",
     "exception": false,
     "start_time": "2023-10-23T20:27:37.865039",
     "status": "completed"
    },
    "tags": []
   },
   "outputs": [],
   "source": [
    "# Importar Método para Separar os dados em treino e teste\n",
    "from sklearn.model_selection import train_test_split"
   ]
  },
  {
   "cell_type": "code",
   "execution_count": 31,
   "id": "2b3d1188",
   "metadata": {
    "execution": {
     "iopub.execute_input": "2023-10-23T20:27:38.033817Z",
     "iopub.status.busy": "2023-10-23T20:27:38.032508Z",
     "iopub.status.idle": "2023-10-23T20:27:38.042440Z",
     "shell.execute_reply": "2023-10-23T20:27:38.041206Z"
    },
    "papermill": {
     "duration": 0.030645,
     "end_time": "2023-10-23T20:27:38.045095",
     "exception": false,
     "start_time": "2023-10-23T20:27:38.014450",
     "status": "completed"
    },
    "tags": []
   },
   "outputs": [],
   "source": [
    "# Definindo 20% dos dados para teste e  80% para treino\n",
    "X_train, X_test, y_train, y_test = train_test_split(X, y, test_size=0.2, random_state=42)"
   ]
  },
  {
   "cell_type": "code",
   "execution_count": 32,
   "id": "670b2468",
   "metadata": {},
   "outputs": [
    {
     "name": "stdout",
     "output_type": "stream",
     "text": [
      "(419876, 8)\n",
      "(104970, 8)\n",
      "(419876,)\n",
      "(104970,)\n"
     ]
    }
   ],
   "source": [
    "print(X_train.shape)\n",
    "print(X_test.shape)\n",
    "print(y_train.shape)\n",
    "print(y_test.shape)"
   ]
  },
  {
   "cell_type": "markdown",
   "id": "bed0217b",
   "metadata": {
    "papermill": {
     "duration": 0.016105,
     "end_time": "2023-10-23T20:27:38.077289",
     "exception": false,
     "start_time": "2023-10-23T20:27:38.061184",
     "status": "completed"
    },
    "tags": []
   },
   "source": [
    "Contruindo modeols de classificação"
   ]
  },
  {
   "cell_type": "code",
   "execution_count": null,
   "id": "0ce33ec8",
   "metadata": {
    "execution": {
     "iopub.execute_input": "2023-10-23T20:27:38.143631Z",
     "iopub.status.busy": "2023-10-23T20:27:38.142504Z",
     "iopub.status.idle": "2023-10-23T20:27:38.877328Z",
     "shell.execute_reply": "2023-10-23T20:27:38.876133Z"
    },
    "papermill": {
     "duration": 0.755801,
     "end_time": "2023-10-23T20:27:38.880626",
     "exception": false,
     "start_time": "2023-10-23T20:27:38.124825",
     "status": "completed"
    },
    "tags": []
   },
   "outputs": [],
   "source": [
    "from sklearn.ensemble import RandomForestClassifier  #Para o modelo 1\n",
    "from sklearn.svm import LinearSVC #Para o modelo 2 \n",
    "\n",
    "modelo_1 = RandomForestClassifier(n_estimators=500, random_state=42)\n",
    "modelo_2 = LinearSVC(random_state=42)\n",
    "\n"
   ]
  },
  {
   "cell_type": "code",
   "execution_count": 34,
   "id": "a55c2423",
   "metadata": {
    "execution": {
     "iopub.execute_input": "2023-10-23T20:27:38.974248Z",
     "iopub.status.busy": "2023-10-23T20:27:38.973082Z",
     "iopub.status.idle": "2023-10-23T20:27:39.452742Z",
     "shell.execute_reply": "2023-10-23T20:27:39.451569Z"
    },
    "papermill": {
     "duration": 0.509476,
     "end_time": "2023-10-23T20:27:39.456366",
     "exception": false,
     "start_time": "2023-10-23T20:27:38.946890",
     "status": "completed"
    },
    "tags": []
   },
   "outputs": [
    {
     "data": {
      "text/html": [
       "<style>#sk-container-id-3 {\n",
       "  /* Definition of color scheme common for light and dark mode */\n",
       "  --sklearn-color-text: #000;\n",
       "  --sklearn-color-text-muted: #666;\n",
       "  --sklearn-color-line: gray;\n",
       "  /* Definition of color scheme for unfitted estimators */\n",
       "  --sklearn-color-unfitted-level-0: #fff5e6;\n",
       "  --sklearn-color-unfitted-level-1: #f6e4d2;\n",
       "  --sklearn-color-unfitted-level-2: #ffe0b3;\n",
       "  --sklearn-color-unfitted-level-3: chocolate;\n",
       "  /* Definition of color scheme for fitted estimators */\n",
       "  --sklearn-color-fitted-level-0: #f0f8ff;\n",
       "  --sklearn-color-fitted-level-1: #d4ebff;\n",
       "  --sklearn-color-fitted-level-2: #b3dbfd;\n",
       "  --sklearn-color-fitted-level-3: cornflowerblue;\n",
       "\n",
       "  /* Specific color for light theme */\n",
       "  --sklearn-color-text-on-default-background: var(--sg-text-color, var(--theme-code-foreground, var(--jp-content-font-color1, black)));\n",
       "  --sklearn-color-background: var(--sg-background-color, var(--theme-background, var(--jp-layout-color0, white)));\n",
       "  --sklearn-color-border-box: var(--sg-text-color, var(--theme-code-foreground, var(--jp-content-font-color1, black)));\n",
       "  --sklearn-color-icon: #696969;\n",
       "\n",
       "  @media (prefers-color-scheme: dark) {\n",
       "    /* Redefinition of color scheme for dark theme */\n",
       "    --sklearn-color-text-on-default-background: var(--sg-text-color, var(--theme-code-foreground, var(--jp-content-font-color1, white)));\n",
       "    --sklearn-color-background: var(--sg-background-color, var(--theme-background, var(--jp-layout-color0, #111)));\n",
       "    --sklearn-color-border-box: var(--sg-text-color, var(--theme-code-foreground, var(--jp-content-font-color1, white)));\n",
       "    --sklearn-color-icon: #878787;\n",
       "  }\n",
       "}\n",
       "\n",
       "#sk-container-id-3 {\n",
       "  color: var(--sklearn-color-text);\n",
       "}\n",
       "\n",
       "#sk-container-id-3 pre {\n",
       "  padding: 0;\n",
       "}\n",
       "\n",
       "#sk-container-id-3 input.sk-hidden--visually {\n",
       "  border: 0;\n",
       "  clip: rect(1px 1px 1px 1px);\n",
       "  clip: rect(1px, 1px, 1px, 1px);\n",
       "  height: 1px;\n",
       "  margin: -1px;\n",
       "  overflow: hidden;\n",
       "  padding: 0;\n",
       "  position: absolute;\n",
       "  width: 1px;\n",
       "}\n",
       "\n",
       "#sk-container-id-3 div.sk-dashed-wrapped {\n",
       "  border: 1px dashed var(--sklearn-color-line);\n",
       "  margin: 0 0.4em 0.5em 0.4em;\n",
       "  box-sizing: border-box;\n",
       "  padding-bottom: 0.4em;\n",
       "  background-color: var(--sklearn-color-background);\n",
       "}\n",
       "\n",
       "#sk-container-id-3 div.sk-container {\n",
       "  /* jupyter's `normalize.less` sets `[hidden] { display: none; }`\n",
       "     but bootstrap.min.css set `[hidden] { display: none !important; }`\n",
       "     so we also need the `!important` here to be able to override the\n",
       "     default hidden behavior on the sphinx rendered scikit-learn.org.\n",
       "     See: https://github.com/scikit-learn/scikit-learn/issues/21755 */\n",
       "  display: inline-block !important;\n",
       "  position: relative;\n",
       "}\n",
       "\n",
       "#sk-container-id-3 div.sk-text-repr-fallback {\n",
       "  display: none;\n",
       "}\n",
       "\n",
       "div.sk-parallel-item,\n",
       "div.sk-serial,\n",
       "div.sk-item {\n",
       "  /* draw centered vertical line to link estimators */\n",
       "  background-image: linear-gradient(var(--sklearn-color-text-on-default-background), var(--sklearn-color-text-on-default-background));\n",
       "  background-size: 2px 100%;\n",
       "  background-repeat: no-repeat;\n",
       "  background-position: center center;\n",
       "}\n",
       "\n",
       "/* Parallel-specific style estimator block */\n",
       "\n",
       "#sk-container-id-3 div.sk-parallel-item::after {\n",
       "  content: \"\";\n",
       "  width: 100%;\n",
       "  border-bottom: 2px solid var(--sklearn-color-text-on-default-background);\n",
       "  flex-grow: 1;\n",
       "}\n",
       "\n",
       "#sk-container-id-3 div.sk-parallel {\n",
       "  display: flex;\n",
       "  align-items: stretch;\n",
       "  justify-content: center;\n",
       "  background-color: var(--sklearn-color-background);\n",
       "  position: relative;\n",
       "}\n",
       "\n",
       "#sk-container-id-3 div.sk-parallel-item {\n",
       "  display: flex;\n",
       "  flex-direction: column;\n",
       "}\n",
       "\n",
       "#sk-container-id-3 div.sk-parallel-item:first-child::after {\n",
       "  align-self: flex-end;\n",
       "  width: 50%;\n",
       "}\n",
       "\n",
       "#sk-container-id-3 div.sk-parallel-item:last-child::after {\n",
       "  align-self: flex-start;\n",
       "  width: 50%;\n",
       "}\n",
       "\n",
       "#sk-container-id-3 div.sk-parallel-item:only-child::after {\n",
       "  width: 0;\n",
       "}\n",
       "\n",
       "/* Serial-specific style estimator block */\n",
       "\n",
       "#sk-container-id-3 div.sk-serial {\n",
       "  display: flex;\n",
       "  flex-direction: column;\n",
       "  align-items: center;\n",
       "  background-color: var(--sklearn-color-background);\n",
       "  padding-right: 1em;\n",
       "  padding-left: 1em;\n",
       "}\n",
       "\n",
       "\n",
       "/* Toggleable style: style used for estimator/Pipeline/ColumnTransformer box that is\n",
       "clickable and can be expanded/collapsed.\n",
       "- Pipeline and ColumnTransformer use this feature and define the default style\n",
       "- Estimators will overwrite some part of the style using the `sk-estimator` class\n",
       "*/\n",
       "\n",
       "/* Pipeline and ColumnTransformer style (default) */\n",
       "\n",
       "#sk-container-id-3 div.sk-toggleable {\n",
       "  /* Default theme specific background. It is overwritten whether we have a\n",
       "  specific estimator or a Pipeline/ColumnTransformer */\n",
       "  background-color: var(--sklearn-color-background);\n",
       "}\n",
       "\n",
       "/* Toggleable label */\n",
       "#sk-container-id-3 label.sk-toggleable__label {\n",
       "  cursor: pointer;\n",
       "  display: flex;\n",
       "  width: 100%;\n",
       "  margin-bottom: 0;\n",
       "  padding: 0.5em;\n",
       "  box-sizing: border-box;\n",
       "  text-align: center;\n",
       "  align-items: start;\n",
       "  justify-content: space-between;\n",
       "  gap: 0.5em;\n",
       "}\n",
       "\n",
       "#sk-container-id-3 label.sk-toggleable__label .caption {\n",
       "  font-size: 0.6rem;\n",
       "  font-weight: lighter;\n",
       "  color: var(--sklearn-color-text-muted);\n",
       "}\n",
       "\n",
       "#sk-container-id-3 label.sk-toggleable__label-arrow:before {\n",
       "  /* Arrow on the left of the label */\n",
       "  content: \"▸\";\n",
       "  float: left;\n",
       "  margin-right: 0.25em;\n",
       "  color: var(--sklearn-color-icon);\n",
       "}\n",
       "\n",
       "#sk-container-id-3 label.sk-toggleable__label-arrow:hover:before {\n",
       "  color: var(--sklearn-color-text);\n",
       "}\n",
       "\n",
       "/* Toggleable content - dropdown */\n",
       "\n",
       "#sk-container-id-3 div.sk-toggleable__content {\n",
       "  max-height: 0;\n",
       "  max-width: 0;\n",
       "  overflow: hidden;\n",
       "  text-align: left;\n",
       "  /* unfitted */\n",
       "  background-color: var(--sklearn-color-unfitted-level-0);\n",
       "}\n",
       "\n",
       "#sk-container-id-3 div.sk-toggleable__content.fitted {\n",
       "  /* fitted */\n",
       "  background-color: var(--sklearn-color-fitted-level-0);\n",
       "}\n",
       "\n",
       "#sk-container-id-3 div.sk-toggleable__content pre {\n",
       "  margin: 0.2em;\n",
       "  border-radius: 0.25em;\n",
       "  color: var(--sklearn-color-text);\n",
       "  /* unfitted */\n",
       "  background-color: var(--sklearn-color-unfitted-level-0);\n",
       "}\n",
       "\n",
       "#sk-container-id-3 div.sk-toggleable__content.fitted pre {\n",
       "  /* unfitted */\n",
       "  background-color: var(--sklearn-color-fitted-level-0);\n",
       "}\n",
       "\n",
       "#sk-container-id-3 input.sk-toggleable__control:checked~div.sk-toggleable__content {\n",
       "  /* Expand drop-down */\n",
       "  max-height: 200px;\n",
       "  max-width: 100%;\n",
       "  overflow: auto;\n",
       "}\n",
       "\n",
       "#sk-container-id-3 input.sk-toggleable__control:checked~label.sk-toggleable__label-arrow:before {\n",
       "  content: \"▾\";\n",
       "}\n",
       "\n",
       "/* Pipeline/ColumnTransformer-specific style */\n",
       "\n",
       "#sk-container-id-3 div.sk-label input.sk-toggleable__control:checked~label.sk-toggleable__label {\n",
       "  color: var(--sklearn-color-text);\n",
       "  background-color: var(--sklearn-color-unfitted-level-2);\n",
       "}\n",
       "\n",
       "#sk-container-id-3 div.sk-label.fitted input.sk-toggleable__control:checked~label.sk-toggleable__label {\n",
       "  background-color: var(--sklearn-color-fitted-level-2);\n",
       "}\n",
       "\n",
       "/* Estimator-specific style */\n",
       "\n",
       "/* Colorize estimator box */\n",
       "#sk-container-id-3 div.sk-estimator input.sk-toggleable__control:checked~label.sk-toggleable__label {\n",
       "  /* unfitted */\n",
       "  background-color: var(--sklearn-color-unfitted-level-2);\n",
       "}\n",
       "\n",
       "#sk-container-id-3 div.sk-estimator.fitted input.sk-toggleable__control:checked~label.sk-toggleable__label {\n",
       "  /* fitted */\n",
       "  background-color: var(--sklearn-color-fitted-level-2);\n",
       "}\n",
       "\n",
       "#sk-container-id-3 div.sk-label label.sk-toggleable__label,\n",
       "#sk-container-id-3 div.sk-label label {\n",
       "  /* The background is the default theme color */\n",
       "  color: var(--sklearn-color-text-on-default-background);\n",
       "}\n",
       "\n",
       "/* On hover, darken the color of the background */\n",
       "#sk-container-id-3 div.sk-label:hover label.sk-toggleable__label {\n",
       "  color: var(--sklearn-color-text);\n",
       "  background-color: var(--sklearn-color-unfitted-level-2);\n",
       "}\n",
       "\n",
       "/* Label box, darken color on hover, fitted */\n",
       "#sk-container-id-3 div.sk-label.fitted:hover label.sk-toggleable__label.fitted {\n",
       "  color: var(--sklearn-color-text);\n",
       "  background-color: var(--sklearn-color-fitted-level-2);\n",
       "}\n",
       "\n",
       "/* Estimator label */\n",
       "\n",
       "#sk-container-id-3 div.sk-label label {\n",
       "  font-family: monospace;\n",
       "  font-weight: bold;\n",
       "  display: inline-block;\n",
       "  line-height: 1.2em;\n",
       "}\n",
       "\n",
       "#sk-container-id-3 div.sk-label-container {\n",
       "  text-align: center;\n",
       "}\n",
       "\n",
       "/* Estimator-specific */\n",
       "#sk-container-id-3 div.sk-estimator {\n",
       "  font-family: monospace;\n",
       "  border: 1px dotted var(--sklearn-color-border-box);\n",
       "  border-radius: 0.25em;\n",
       "  box-sizing: border-box;\n",
       "  margin-bottom: 0.5em;\n",
       "  /* unfitted */\n",
       "  background-color: var(--sklearn-color-unfitted-level-0);\n",
       "}\n",
       "\n",
       "#sk-container-id-3 div.sk-estimator.fitted {\n",
       "  /* fitted */\n",
       "  background-color: var(--sklearn-color-fitted-level-0);\n",
       "}\n",
       "\n",
       "/* on hover */\n",
       "#sk-container-id-3 div.sk-estimator:hover {\n",
       "  /* unfitted */\n",
       "  background-color: var(--sklearn-color-unfitted-level-2);\n",
       "}\n",
       "\n",
       "#sk-container-id-3 div.sk-estimator.fitted:hover {\n",
       "  /* fitted */\n",
       "  background-color: var(--sklearn-color-fitted-level-2);\n",
       "}\n",
       "\n",
       "/* Specification for estimator info (e.g. \"i\" and \"?\") */\n",
       "\n",
       "/* Common style for \"i\" and \"?\" */\n",
       "\n",
       ".sk-estimator-doc-link,\n",
       "a:link.sk-estimator-doc-link,\n",
       "a:visited.sk-estimator-doc-link {\n",
       "  float: right;\n",
       "  font-size: smaller;\n",
       "  line-height: 1em;\n",
       "  font-family: monospace;\n",
       "  background-color: var(--sklearn-color-background);\n",
       "  border-radius: 1em;\n",
       "  height: 1em;\n",
       "  width: 1em;\n",
       "  text-decoration: none !important;\n",
       "  margin-left: 0.5em;\n",
       "  text-align: center;\n",
       "  /* unfitted */\n",
       "  border: var(--sklearn-color-unfitted-level-1) 1pt solid;\n",
       "  color: var(--sklearn-color-unfitted-level-1);\n",
       "}\n",
       "\n",
       ".sk-estimator-doc-link.fitted,\n",
       "a:link.sk-estimator-doc-link.fitted,\n",
       "a:visited.sk-estimator-doc-link.fitted {\n",
       "  /* fitted */\n",
       "  border: var(--sklearn-color-fitted-level-1) 1pt solid;\n",
       "  color: var(--sklearn-color-fitted-level-1);\n",
       "}\n",
       "\n",
       "/* On hover */\n",
       "div.sk-estimator:hover .sk-estimator-doc-link:hover,\n",
       ".sk-estimator-doc-link:hover,\n",
       "div.sk-label-container:hover .sk-estimator-doc-link:hover,\n",
       ".sk-estimator-doc-link:hover {\n",
       "  /* unfitted */\n",
       "  background-color: var(--sklearn-color-unfitted-level-3);\n",
       "  color: var(--sklearn-color-background);\n",
       "  text-decoration: none;\n",
       "}\n",
       "\n",
       "div.sk-estimator.fitted:hover .sk-estimator-doc-link.fitted:hover,\n",
       ".sk-estimator-doc-link.fitted:hover,\n",
       "div.sk-label-container:hover .sk-estimator-doc-link.fitted:hover,\n",
       ".sk-estimator-doc-link.fitted:hover {\n",
       "  /* fitted */\n",
       "  background-color: var(--sklearn-color-fitted-level-3);\n",
       "  color: var(--sklearn-color-background);\n",
       "  text-decoration: none;\n",
       "}\n",
       "\n",
       "/* Span, style for the box shown on hovering the info icon */\n",
       ".sk-estimator-doc-link span {\n",
       "  display: none;\n",
       "  z-index: 9999;\n",
       "  position: relative;\n",
       "  font-weight: normal;\n",
       "  right: .2ex;\n",
       "  padding: .5ex;\n",
       "  margin: .5ex;\n",
       "  width: min-content;\n",
       "  min-width: 20ex;\n",
       "  max-width: 50ex;\n",
       "  color: var(--sklearn-color-text);\n",
       "  box-shadow: 2pt 2pt 4pt #999;\n",
       "  /* unfitted */\n",
       "  background: var(--sklearn-color-unfitted-level-0);\n",
       "  border: .5pt solid var(--sklearn-color-unfitted-level-3);\n",
       "}\n",
       "\n",
       ".sk-estimator-doc-link.fitted span {\n",
       "  /* fitted */\n",
       "  background: var(--sklearn-color-fitted-level-0);\n",
       "  border: var(--sklearn-color-fitted-level-3);\n",
       "}\n",
       "\n",
       ".sk-estimator-doc-link:hover span {\n",
       "  display: block;\n",
       "}\n",
       "\n",
       "/* \"?\"-specific style due to the `<a>` HTML tag */\n",
       "\n",
       "#sk-container-id-3 a.estimator_doc_link {\n",
       "  float: right;\n",
       "  font-size: 1rem;\n",
       "  line-height: 1em;\n",
       "  font-family: monospace;\n",
       "  background-color: var(--sklearn-color-background);\n",
       "  border-radius: 1rem;\n",
       "  height: 1rem;\n",
       "  width: 1rem;\n",
       "  text-decoration: none;\n",
       "  /* unfitted */\n",
       "  color: var(--sklearn-color-unfitted-level-1);\n",
       "  border: var(--sklearn-color-unfitted-level-1) 1pt solid;\n",
       "}\n",
       "\n",
       "#sk-container-id-3 a.estimator_doc_link.fitted {\n",
       "  /* fitted */\n",
       "  border: var(--sklearn-color-fitted-level-1) 1pt solid;\n",
       "  color: var(--sklearn-color-fitted-level-1);\n",
       "}\n",
       "\n",
       "/* On hover */\n",
       "#sk-container-id-3 a.estimator_doc_link:hover {\n",
       "  /* unfitted */\n",
       "  background-color: var(--sklearn-color-unfitted-level-3);\n",
       "  color: var(--sklearn-color-background);\n",
       "  text-decoration: none;\n",
       "}\n",
       "\n",
       "#sk-container-id-3 a.estimator_doc_link.fitted:hover {\n",
       "  /* fitted */\n",
       "  background-color: var(--sklearn-color-fitted-level-3);\n",
       "}\n",
       "</style><div id=\"sk-container-id-3\" class=\"sk-top-container\"><div class=\"sk-text-repr-fallback\"><pre>LinearSVC(random_state=42)</pre><b>In a Jupyter environment, please rerun this cell to show the HTML representation or trust the notebook. <br />On GitHub, the HTML representation is unable to render, please try loading this page with nbviewer.org.</b></div><div class=\"sk-container\" hidden><div class=\"sk-item\"><div class=\"sk-estimator fitted sk-toggleable\"><input class=\"sk-toggleable__control sk-hidden--visually\" id=\"sk-estimator-id-3\" type=\"checkbox\" checked><label for=\"sk-estimator-id-3\" class=\"sk-toggleable__label fitted sk-toggleable__label-arrow\"><div><div>LinearSVC</div></div><div><a class=\"sk-estimator-doc-link fitted\" rel=\"noreferrer\" target=\"_blank\" href=\"https://scikit-learn.org/1.6/modules/generated/sklearn.svm.LinearSVC.html\">?<span>Documentation for LinearSVC</span></a><span class=\"sk-estimator-doc-link fitted\">i<span>Fitted</span></span></div></label><div class=\"sk-toggleable__content fitted\"><pre>LinearSVC(random_state=42)</pre></div> </div></div></div></div>"
      ],
      "text/plain": [
       "LinearSVC(random_state=42)"
      ]
     },
     "execution_count": 34,
     "metadata": {},
     "output_type": "execute_result"
    }
   ],
   "source": [
    "modelo_1.fit(X_train, y_train)\n",
    "modelo_2.fit(X_train, y_train)"
   ]
  },
  {
   "cell_type": "code",
   "execution_count": null,
   "id": "4128448a",
   "metadata": {
    "execution": {
     "iopub.execute_input": "2023-10-23T20:27:39.504396Z",
     "iopub.status.busy": "2023-10-23T20:27:39.503889Z",
     "iopub.status.idle": "2023-10-23T20:27:39.541879Z",
     "shell.execute_reply": "2023-10-23T20:27:39.540067Z"
    },
    "papermill": {
     "duration": 0.067666,
     "end_time": "2023-10-23T20:27:39.544912",
     "exception": false,
     "start_time": "2023-10-23T20:27:39.477246",
     "status": "completed"
    },
    "tags": []
   },
   "outputs": [],
   "source": [
    "# Fazendo predições na base de teste\n",
    "\n",
    "y_pred1 = modelo_1.predict(X_test)\n",
    "y_pred2 = modelo_2.predict(X_test)\n"
   ]
  },
  {
   "cell_type": "code",
   "execution_count": 36,
   "id": "4f19cfa9",
   "metadata": {},
   "outputs": [
    {
     "data": {
      "text/plain": [
       "array([0, 0, 0, ..., 0, 0, 0], shape=(104970,))"
      ]
     },
     "execution_count": 36,
     "metadata": {},
     "output_type": "execute_result"
    }
   ],
   "source": [
    "y_pred1"
   ]
  },
  {
   "cell_type": "markdown",
   "id": "692ae25d",
   "metadata": {
    "papermill": {
     "duration": 0.016993,
     "end_time": "2023-10-23T20:27:39.612785",
     "exception": false,
     "start_time": "2023-10-23T20:27:39.595792",
     "status": "completed"
    },
    "tags": []
   },
   "source": [
    "Vamos avaliar os modelos e obter as taxas de acurácia"
   ]
  },
  {
   "cell_type": "code",
   "execution_count": 38,
   "id": "499a3c3f",
   "metadata": {
    "execution": {
     "iopub.execute_input": "2023-10-23T20:27:39.650703Z",
     "iopub.status.busy": "2023-10-23T20:27:39.649818Z",
     "iopub.status.idle": "2023-10-23T20:27:39.654576Z",
     "shell.execute_reply": "2023-10-23T20:27:39.653689Z"
    },
    "papermill": {
     "duration": 0.026639,
     "end_time": "2023-10-23T20:27:39.656758",
     "exception": false,
     "start_time": "2023-10-23T20:27:39.630119",
     "status": "completed"
    },
    "tags": []
   },
   "outputs": [
    {
     "name": "stdout",
     "output_type": "stream",
     "text": [
      "Acuracia Modelo 1: 98.98%\n",
      "Acuracia Modelo 2: 98.67%\n"
     ]
    }
   ],
   "source": [
    "# Importando o método da Acurácia (Taxa de Acerto)\n",
    "from sklearn.metrics import accuracy_score\n",
    "acuracia1 = accuracy_score(y_test, y_pred1)\n",
    "acuracia2 = accuracy_score(y_test, y_pred2)\n",
    "\n",
    "print(f\"Acuracia Modelo 1: {acuracia1 * 100:.2f}%\")\n",
    "print(f\"Acuracia Modelo 2: {acuracia2 * 100:.2f}%\")"
   ]
  },
  {
   "cell_type": "markdown",
   "id": "fb744465",
   "metadata": {},
   "source": [
    "O primeiro modelo teve o melhor desempenho de acordo com os testes"
   ]
  },
  {
   "cell_type": "markdown",
   "id": "3bfef62b",
   "metadata": {},
   "source": [
    "Agora faremos uma análise de desempenho a partir de várias execuções dos modelos, para verificar estabilidade:"
   ]
  },
  {
   "cell_type": "code",
   "execution_count": 40,
   "id": "994c9f2e",
   "metadata": {},
   "outputs": [
    {
     "name": "stderr",
     "output_type": "stream",
     "text": [
      "c:\\Users\\Usuário\\Desktop\\iaOficina\\IA-formacao-4.0\\.venv\\Lib\\site-packages\\sklearn\\svm\\_base.py:1249: ConvergenceWarning: Liblinear failed to converge, increase the number of iterations.\n",
      "  warnings.warn(\n"
     ]
    }
   ],
   "source": [
    "acuracia_modelo1 = []\n",
    "acuracia_modelo2 = []\n",
    "acuracia_modelo3 = []\n",
    "acuracia_modelo4 = []\n",
    "\n",
    "for i in range(3):\n",
    "    X_train, X_test, y_train, y_test = train_test_split(X, y, test_size=0.2)\n",
    "\n",
    "    modelo_1 = RandomForestClassifier(n_estimators=500, random_state=42)\n",
    "    modelo_2 = LinearSVC(random_state=42)\n",
    "\n",
    "    modelo_1.fit(X_train, y_train)\n",
    "    modelo_2.fit(X_train, y_train)\n",
    "\n",
    "    y_pred1 = modelo_1.predict(X_test)\n",
    "    y_pred2 = modelo_2.predict(X_test)\n",
    "\n",
    "    acuracia1 = accuracy_score(y_test, y_pred1)\n",
    "    acuracia2 = accuracy_score(y_test, y_pred2)\n",
    "\n",
    "    acuracia_modelo1.append(acuracia1)\n",
    "    acuracia_modelo2.append(acuracia2)"
   ]
  },
  {
   "cell_type": "code",
   "execution_count": 41,
   "id": "8fca1616",
   "metadata": {},
   "outputs": [
    {
     "name": "stdout",
     "output_type": "stream",
     "text": [
      "0.9899812644882665\n",
      "0.986967705058588\n"
     ]
    }
   ],
   "source": [
    "print(np.mean(acuracia_modelo1))\n",
    "print(np.mean(acuracia_modelo2))"
   ]
  },
  {
   "cell_type": "markdown",
   "id": "c6b812c9",
   "metadata": {},
   "source": [
    "Verificamos que em média  o modelo 1 possui melhor desempenho (maior taxa de acerto), então iremos explortar (salvar) esse modelo para criar nosso sistema preditivo."
   ]
  },
  {
   "cell_type": "code",
   "execution_count": 42,
   "id": "1cdab78c",
   "metadata": {},
   "outputs": [
    {
     "name": "stdout",
     "output_type": "stream",
     "text": [
      "Modelo salvo com sucesso!\n"
     ]
    }
   ],
   "source": [
    "import pickle\n",
    "\n",
    "# Salvar o modelo em um arquivo .pkl\n",
    "with open('../modelo/modelo_treinado.pkl', 'wb') as arquivo:  \n",
    "    pickle.dump(modelo_1, arquivo)\n",
    "\n",
    "print(\"Modelo salvo com sucesso!\")"
   ]
  }
 ],
 "metadata": {
  "kernelspec": {
   "display_name": ".venv",
   "language": "python",
   "name": "python3"
  },
  "language_info": {
   "codemirror_mode": {
    "name": "ipython",
    "version": 3
   },
   "file_extension": ".py",
   "mimetype": "text/x-python",
   "name": "python",
   "nbconvert_exporter": "python",
   "pygments_lexer": "ipython3",
   "version": "3.13.3"
  },
  "papermill": {
   "default_parameters": {},
   "duration": 11.805006,
   "end_time": "2023-10-23T20:27:41.247179",
   "environment_variables": {},
   "exception": null,
   "input_path": "__notebook__.ipynb",
   "output_path": "__notebook__.ipynb",
   "parameters": {},
   "start_time": "2023-10-23T20:27:29.442173",
   "version": "2.4.0"
  }
 },
 "nbformat": 4,
 "nbformat_minor": 5
}
