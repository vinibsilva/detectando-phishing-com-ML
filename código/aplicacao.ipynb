{
 "cells": [
  {
   "cell_type": "markdown",
   "id": "e242c86d",
   "metadata": {},
   "source": [
    "Criando uma interface gráfica para utilização da aplicação\n"
   ]
  },
  {
   "cell_type": "code",
   "execution_count": 8,
   "id": "38ab3a63",
   "metadata": {},
   "outputs": [],
   "source": [
    "import pickle\n",
    "import pandas as pd\n",
    "\n",
    "# Carregar o modelo \n",
    "with open('../modelo/modelo_treinado.pkl', 'rb') as f:\n",
    "    modelo = pickle.load(f)\n",
    "\n",
    "# Colunas usadas durante o treinamento\n",
    "colunas_modelo = ['Numero_Palavras', 'Numero_Palavras_Unicas', 'Numero_Palavras_Comuns', \n",
    "                  'Numero_Links', 'Numero_Dominios_Unicos', 'Numero_Emails', 'Numero_Palavras_Erro_Ortografico', 'Numero_Palavras_Urgencia']"
   ]
  },
  {
   "cell_type": "code",
   "execution_count": 9,
   "id": "a7da0bd0",
   "metadata": {},
   "outputs": [],
   "source": [
    "def prever_deixou_empresa(cPalavras, cParalvrasUnicas, cPalavrasComuns, cLinks, cDominiosUnicos, cEmails, cPalavrasComErros, cPalavrasDeUrgencia):\n",
    "    entradas = [cPalavras, cParalvrasUnicas, cPalavrasComuns, cLinks, cDominiosUnicos, cEmails, cPalavrasComErros, cPalavrasDeUrgencia]\n",
    "    entradas = [0 if v is None else v for v in entradas]\n",
    "    \n",
    "    dados = pd.DataFrame({\n",
    "        'Numero_Palavras': [cPalavras],\n",
    "        'Numero_Palavras_Unicas': [cParalvrasUnicas],\n",
    "        'Numero_Palavras_Comuns': [cPalavrasComuns],\n",
    "        'Numero_Links': [cLinks],\n",
    "        'Numero_Dominios_Unicos': [cDominiosUnicos],\n",
    "        'Numero_Emails': [cEmails],\n",
    "        'Numero_Palavras_Erro_Ortografico': [cPalavrasComErros],\n",
    "        'Numero_Palavras_Urgencia': [cPalavrasDeUrgencia]\n",
    "    })\n",
    "\n",
    "\n",
    "    predicao = modelo.predict(dados)[0]\n",
    "    return \"Phishing detectado!\" if predicao == 1 else \"Email seguro!\""
   ]
  },
  {
   "cell_type": "code",
   "execution_count": null,
   "id": "38ff9880",
   "metadata": {},
   "outputs": [
    {
     "name": "stdout",
     "output_type": "stream",
     "text": [
      "* Running on local URL:  http://127.0.0.1:7862\n",
      "\n",
      "Could not create share link. Missing file: C:\\Users\\Usuário\\.cache\\huggingface\\gradio\\frpc\\frpc_windows_amd64_v0.3. \n",
      "\n",
      "Please check your internet connection. This can happen if your antivirus software blocks the download of this file. You can install manually by following these steps: \n",
      "\n",
      "1. Download this file: https://cdn-media.huggingface.co/frpc-gradio-0.3/frpc_windows_amd64.exe\n",
      "2. Rename the downloaded file to: frpc_windows_amd64_v0.3\n",
      "3. Move the file to this location: C:\\Users\\Usuário\\.cache\\huggingface\\gradio\\frpc\n"
     ]
    },
    {
     "data": {
      "text/html": [
       "<div><iframe src=\"http://127.0.0.1:7862/\" width=\"100%\" height=\"500\" allow=\"autoplay; camera; microphone; clipboard-read; clipboard-write;\" frameborder=\"0\" allowfullscreen></iframe></div>"
      ],
      "text/plain": [
       "<IPython.core.display.HTML object>"
      ]
     },
     "metadata": {},
     "output_type": "display_data"
    },
    {
     "data": {
      "text/plain": []
     },
     "execution_count": 10,
     "metadata": {},
     "output_type": "execute_result"
    }
   ],
   "source": [
    "import gradio as gr  \n",
    "\n",
    "with gr.Blocks() as app:\n",
    "    gr.Markdown(\"Predição de Emails Phishing\")  \n",
    "\n",
    "    with gr.Row():\n",
    "        cPalavras = gr.Number(label=\"Quantidade de palavras\")     \n",
    "        cParalvrasUnicas = gr.Number(label=\"Quantidade de palavras únicas\")           \n",
    "        cPalavrasComuns = gr.Number(label=\"Quantidade de palavras comuns\")  \n",
    "    with gr.Row():\n",
    "        cLinks = gr.Number(label=\"Quantidade de links\")  \n",
    "        cDominiosUnicos = gr.Number(label=\"Quantidade de domínios únicos\")          \n",
    "        cEmails = gr.Number(label = \"Quantidade de emails\")             \n",
    "\n",
    "    with gr.Row():\n",
    "        cPalavrasComErros = gr.Number(label=\"Quantidade de palavras com erros ortográficos\")  \n",
    "        cPalavrasDeUrgencia = gr.Number(label=\"Quantidade de palavras de urgência\")   \n",
    "\n",
    "    btn = gr.Button(\"Prever\")\n",
    "\n",
    "    output = gr.Label(label=\"Resultado\")\n",
    "\n",
    "    btn.click(\n",
    "        fn=prever_deixou_empresa, \n",
    "        inputs=[cPalavras, cParalvrasUnicas,  cPalavrasComuns, cLinks, cDominiosUnicos, cEmails, cPalavrasComErros, cPalavrasDeUrgencia],\n",
    "        outputs=output\n",
    "    )\n",
    "\n",
    "app.launch(share=True)"
   ]
  }
 ],
 "metadata": {
  "kernelspec": {
   "display_name": ".venv",
   "language": "python",
   "name": "python3"
  },
  "language_info": {
   "codemirror_mode": {
    "name": "ipython",
    "version": 3
   },
   "file_extension": ".py",
   "mimetype": "text/x-python",
   "name": "python",
   "nbconvert_exporter": "python",
   "pygments_lexer": "ipython3",
   "version": "3.13.3"
  }
 },
 "nbformat": 4,
 "nbformat_minor": 5
}
